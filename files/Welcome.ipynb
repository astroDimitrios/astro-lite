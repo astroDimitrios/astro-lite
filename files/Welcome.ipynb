{
 "cells": [
  {
   "cell_type": "markdown",
   "metadata": {},
   "source": [
    "<center>\n",
    "    <img width=\"100%\" src=\"https://raw.githubusercontent.com/astroDimitrios/Astronomy/main/APBanner.png\" alt='A&P Logo'>\n",
    "</center>\n",
    "\n",
    "# Welcome!\n",
    "\n",
    "Welcome to your very own JupyterLab server where you can try out some of the Astronomy and Python coding activities or create your own code.\n",
    "\n",
    "This welcome document is an interactive Jupyter Notebook just like the coding activities. It is made of markdown (text) cells like this one, and grey code cells like the one below. To edit a markdown cell double click on it. A single click does the trick for code cells. To exit a markdown cell or run a piece of code press ```Shift+Enter```! Try running the code cell below!\n"
   ]
  },
  {
   "cell_type": "code",
   "execution_count": 1,
   "metadata": {},
   "outputs": [
    {
     "name": "stdout",
     "output_type": "stream",
     "text": [
      "I <3 Astronomy\n"
     ]
    }
   ],
   "source": [
    "print(\"I <3 Astronomy\")"
   ]
  },
  {
   "cell_type": "markdown",
   "metadata": {},
   "source": [
    "Creating a new notebook is simple. Go to File --> New --> Notebook.\n",
    "\n",
    "To try one of my activities click on one of the links below. A program called nbgitpuller will automatically fetch the activity and save it in the file tree on the left hand side of the screen.\n",
    "\n",
    "## Activities\n",
    "\n",
    "Documentation for the activities can be found on my [GitHub](https://github.com/astroDimitrios/Astronomy) or on [astropython.com](https://www.astropython.com/). If you need help or find mistakes (yikes) contact me via email - astrodimitrios@gmail.com.\n",
    "\n",
    "**Note:** Small bug! - If you click on a link below it will open a new tab with the activity but you have to REFRESH the new tab to be sent straight to the correct notebook.\n",
    "\n",
    "[AstPy-001](https://hub.astropython.com/hub/user-redirect/git-pull?repo=https%3A%2F%2Fgithub.com%2FastroDimitrios%2FAstPy-001&urlpath=lab%2Ftree%2FAstPy-001%2FREADME.ipynb&branch=main) Intro Activities      \n",
    "[AstPy-003](https://hub.astropython.com/hub/user-redirect/git-pull?repo=https%3A%2F%2Fgithub.com%2FastroDimitrios%2FAstPy-003&urlpath=lab%2Ftree%2FAstPy-003%2Ffusion.ipynb&branch=main) Stellar Fusion    \n",
    "[AstPy-004](https://hub.astropython.com/hub/user-redirect/git-pull?repo=https%3A%2F%2Fgithub.com%2FastroDimitrios%2FAstPy-004&urlpath=lab%2Ftree%2FAstPy-004%2FsolarImages.ipynb&branch=main) Solar Images\n",
    "\n",
    "Specials:\n",
    "\n",
    "[S001](https://hub.astropython.com/hub/user-redirect/git-pull?repo=https%3A%2F%2Fgithub.com%2FastroDimitrios%2FS001&urlpath=lab%2Ftree%2FS001%2Flaunch.ipynb&branch=main) Mars 2020 Launch Windows\n",
    "\n",
    "Finally make sure you remember your login and password!\n",
    "\n",
    "**NOTE:** The server may go down periodically. If you want to keep your work please download it to your local computer, do NOT assume it is safe forever on the hub. \n",
    "\n",
    "## Thanks\n",
    "\n",
    "Thanks to these open source projects I am able to provide my activities online for free.\n",
    "\n",
    "Jupyter - [https://jupyter.org/](https://jupyter.org/)    \n",
    "The Littlest JupyterHub - [https://tljh.jupyter.org/en/latest/](https://tljh.jupyter.org/en/latest/)    \n",
    "nbgitpuller - [https://jupyterhub.github.io/nbgitpuller/](https://jupyterhub.github.io/nbgitpuller/)    \n",
    "NumPy - [https://numpy.org/](https://numpy.org/)    \n",
    "SciPy - [https://www.scipy.org/](https://www.scipy.org/)     \n",
    "Pandas - [https://pandas.pydata.org/](https://pandas.pydata.org/)     \n",
    "Astropy = [https://www.astropy.org/](https://www.astropy.org/)\n",
    "\n",
    "and many more! References and acknowledgements for individual activities are included in the respective GitHub README files and at the end of the interactive activities.\n",
    "\n",
    "## Sharing\n",
    "\n",
    "If you share, use or modify any activities in any way use the citation in this [txt file](https://github.com/astroDimitrios/Astronomy/blob/master/CITATION.txt).    \n",
    "Please contact me at astrodimitrios@gmail.com with any suggestions, mistakes found, or general questions about teaching astronomy with Python.\n",
    "\n",
    "© Dimitrios Theodorakis GNU General Public License v3.0 \u000b\n",
    "\n",
    "https://github.com/astroDimitrios/Astronomy  \n",
    "\n",
    "\n"
   ]
  }
 ],
 "metadata": {
  "kernelspec": {
   "display_name": "Python 3",
   "language": "python",
   "name": "python3"
  },
  "language_info": {
   "codemirror_mode": {
    "name": "ipython",
    "version": 3
   },
   "file_extension": ".py",
   "mimetype": "text/x-python",
   "name": "python",
   "nbconvert_exporter": "python",
   "pygments_lexer": "ipython3",
   "version": "3.6.12"
  }
 },
 "nbformat": 4,
 "nbformat_minor": 4
}
