{
 "cells": [
  {
   "cell_type": "markdown",
   "metadata": {},
   "source": [
    "Name: __________________        Class: __________________     Date: __________________"
   ]
  },
  {
   "cell_type": "markdown",
   "metadata": {},
   "source": [
    "<center>\n",
    "    <img width=\"100%\" src=\"https://raw.githubusercontent.com/astroDimitrios/Astronomy/main/APBanner.png\" alt='A&P Logo'>\n",
    "</center>\n",
    "\n",
    "# Welcome to an Intro to Python\n",
    "\n",
    "### AIM - To introduce students to Python and Numpy\n",
    "Difficulty: Easy\n",
    "\n",
    "## Start:\n",
    "\n",
    "These introductory notebooks are designed to give you basic Python skills and let you practice them. Python is used by Astronomers all over the world to run simulations, analyse telescope data, and much much more. The first two activities teach you the basics of Python 3, NumPy - a Python library for numerical calculations and arrays, Matplotlib - a plotting library, and Pandas - a library for manipulating csv's and other files. The rest of the intro activities get you to practice using the skills you have learnt and build on them further.\n",
    "\n",
    "If you are stuck you can consult the Python and NumPy docs at https://docs.python.org/3/, and https://numpy.org/doc/stable/, find help from one of these websites www.w3schools.com, www.python.org, www.learnpython.org (great intro lessons here) or you can also get advice from www.stackoverflow.com.\n",
    "\n",
    "This interactive notebook is part of a series which can be found here: https://github.com/AstroDimitrios/Astronomy.  \n",
    "The notebook is distributed by Dimitrios Theodorakis under the GNU General Public License v3.0.    \n",
    "If something is not working right or you have questions/suggestions about these notebooks please email me at astrodimitrios@gmail.com.     \n",
    "The Numpy section was adapted from work by Ridwan Barbhuiyan - https://github.com/rbarbhuiyan.      \n",
    "Inspiration was taken from the Exoplanet Transit Lab from the Dominion Astrophysical Observatory, Canada here: https://centreoftheuniverse.org/transit-lab, and the work of Adam LaMee's Coding in K12 here: https://adamlamee.github.io/.\n",
    "\n",
    "## Contents\n",
    "\n",
    "* [Start](#Start)\n",
    "* [NumPy](#Num)\n",
    "* [Over to You](#OTY)\n",
    "\n",
    "\n",
    "## Let's Go: <a class=\"anchor\" id=\"Start\"></a>\n",
    "\n",
    "These activities are written as Jupyter notebooks. Jupyter lets us run code on the web without installing Python on our own computers. A Jupyter notebook is made up of many cells. The cell you are currently looking at has a blue bar on the left hand side highlighting it.\n",
    "\n",
    "There are two types of cells:\n",
    "- Markdown - where we can write text\n",
    "- Code - where we will write our Python code\n",
    "\n",
    "Markdown cells let us enter text. What you are reading now is in a markdown cell. To see the code that makes this cell double click on it, then when you're finished press ```shift+enter``` to exit.\n",
    "\n",
    "Code cells have a grey background to them. To run the Python code in a cell we press ```shift+enter``` when the cell is highlighted to run the code. Most of the time you have to run the cells in order or you will get an error. Some cells will output text or an image which you should see appear underneath the code cell. If the code cell executes correctly a number will appear in the ```[ ]:``` brackets next to the top left corner of the code cell.\n",
    "\n",
    "**Comments** - All code should be commented for readability\n",
    "Try running the grey code cell with the comments in below:"
   ]
  },
  {
   "cell_type": "code",
   "execution_count": null,
   "metadata": {},
   "outputs": [],
   "source": [
    "# This is a single line comment\n",
    "'''This is a \n",
    "multiline comment'''"
   ]
  },
  {
   "cell_type": "markdown",
   "metadata": {},
   "source": [
    "**Variables** - Declaring a variable. The dot says we want a float (decimal) not an integer. For b we assigned a string (text)."
   ]
  },
  {
   "cell_type": "code",
   "execution_count": null,
   "metadata": {},
   "outputs": [],
   "source": [
    "a = 2\n",
    "a = 2.\n",
    "b = \"Hello World!\"\n",
    "# Store your name in a new variable as a string\n",
    "# Your code here:\n"
   ]
  },
  {
   "cell_type": "markdown",
   "metadata": {},
   "source": [
    "**Printing** - Print a variable (or anything else) using the print() fucntion."
   ]
  },
  {
   "cell_type": "code",
   "execution_count": null,
   "metadata": {},
   "outputs": [],
   "source": [
    "print(b)\n",
    "# Print a below\n",
    "# Your code here:\n"
   ]
  },
  {
   "cell_type": "markdown",
   "metadata": {},
   "source": [
    "**Maths** - Basic operators in Python. Addition, subtraction, multiplication, division, and powers."
   ]
  },
  {
   "cell_type": "code",
   "execution_count": null,
   "metadata": {},
   "outputs": [],
   "source": [
    "c = 2+2\n",
    "d = 2-2\n",
    "e = 2*2   # multiplication\n",
    "f = 2/2   # division\n",
    "g = 2**2  # power (this is squared!)\n",
    "# Print d minus g\n",
    "# Your code here:\n"
   ]
  },
  {
   "cell_type": "markdown",
   "metadata": {},
   "source": [
    "**Print Text and Numbers** - Use str() to convert the number to a string first and join the two strings together."
   ]
  },
  {
   "cell_type": "code",
   "execution_count": null,
   "metadata": {},
   "outputs": [],
   "source": [
    "print(\"My number is: \"+str(c))"
   ]
  },
  {
   "cell_type": "markdown",
   "metadata": {},
   "source": [
    "**Lists** - A list of numbers or strings or anything else!"
   ]
  },
  {
   "cell_type": "code",
   "execution_count": null,
   "metadata": {},
   "outputs": [],
   "source": [
    "myList = [1,2,3,4,5]\n",
    "print(myList)\n",
    "# Create a new list of the planets names! (as strings this time not numbers)\n",
    "# Your code here:\n"
   ]
  },
  {
   "cell_type": "markdown",
   "metadata": {},
   "source": [
    "Append to the list (at the end):"
   ]
  },
  {
   "cell_type": "code",
   "execution_count": null,
   "metadata": {},
   "outputs": [],
   "source": [
    "myList.append(6)\n",
    "print(myList)\n",
    "# Add Pluto to your list that you made above\n",
    "# Your code here:\n"
   ]
  },
  {
   "cell_type": "markdown",
   "metadata": {},
   "source": [
    "**Tuples** - These are like lists but cannot be changed once created."
   ]
  },
  {
   "cell_type": "code",
   "execution_count": null,
   "metadata": {},
   "outputs": [],
   "source": [
    "myTuple = (1,2,3,4)\n",
    "print(myTuple)\n",
    "# Create a tuple with lists inside and print it, put anything you want in the lists\n",
    "# Your code here:\n"
   ]
  },
  {
   "cell_type": "markdown",
   "metadata": {},
   "source": [
    "**Indexing** - Access an element in a list/tuple using its index. The first element is at index 0. You can also use negative indices and select multiple elements at once using a slice."
   ]
  },
  {
   "cell_type": "code",
   "execution_count": null,
   "metadata": {},
   "outputs": [],
   "source": [
    "print(myList[0])\n",
    "print(myList[1])\n",
    "\n",
    "print(myList[-1])\n",
    "print(myList[-2])\n",
    "\n",
    "print(myList[0:3])\n",
    "\n",
    "# Print the name in your list of planets and Pluto\n",
    "# Your code here:\n"
   ]
  },
  {
   "cell_type": "markdown",
   "metadata": {},
   "source": [
    "**For Loops** - A for loop will do something (in this case ```print()```) for each element, ```i``` in the list/tuple."
   ]
  },
  {
   "cell_type": "code",
   "execution_count": null,
   "metadata": {},
   "outputs": [],
   "source": [
    "for i in myList:\n",
    "    print(i)\n",
    "\n",
    "# Create a new for loop to print out each element in your list of planet names\n",
    "# Your code here:\n"
   ]
  },
  {
   "cell_type": "markdown",
   "metadata": {},
   "source": [
    "**NumPy Library** <a class=\"anchor\" id=\"Num\"></a>\n",
    "\n",
    "A library is a set of functions/code that you can use in your code.  \n",
    "The NumPy library is a very useful maths library. To use the maths functions in NumPy we first have to import it using the code below. The ```as np``` means we can just write ```np``` when we want to use a NumPy function instead of the full name ```numpy```."
   ]
  },
  {
   "cell_type": "code",
   "execution_count": null,
   "metadata": {},
   "outputs": [],
   "source": [
    "import numpy as np"
   ]
  },
  {
   "cell_type": "markdown",
   "metadata": {},
   "source": [
    "**Arrays** - A numpy array is generally faster than a list."
   ]
  },
  {
   "cell_type": "code",
   "execution_count": null,
   "metadata": {},
   "outputs": [],
   "source": [
    "array1 = np.arange(1,11)\n",
    "print(array1)\n",
    "# Create an array from 11 to 20\n",
    "# Your code here:\n"
   ]
  },
  {
   "cell_type": "markdown",
   "metadata": {},
   "source": [
    "**Dtypes** - Data types include int (integers), float (decimals), lists, tuples, and arrays etc."
   ]
  },
  {
   "cell_type": "code",
   "execution_count": null,
   "metadata": {},
   "outputs": [],
   "source": [
    "print(type(array1))\n",
    "# notice the difference between that and the type for myList\n",
    "print(type(myList))"
   ]
  },
  {
   "cell_type": "markdown",
   "metadata": {},
   "source": [
    "**For Loop on Arrays**"
   ]
  },
  {
   "cell_type": "code",
   "execution_count": null,
   "metadata": {},
   "outputs": [],
   "source": [
    "for i in array1:\n",
    "    print(i*2) # times each element by 2\n",
    "# Make a for loop to calculate the cube of each element\n",
    "# Your code here:\n"
   ]
  },
  {
   "cell_type": "markdown",
   "metadata": {},
   "source": [
    "**Maths on an Array** - Operations can be performed on each element of an array."
   ]
  },
  {
   "cell_type": "code",
   "execution_count": null,
   "metadata": {},
   "outputs": [],
   "source": [
    "array2 = array1*2\n",
    "print(array2)\n",
    "# Calculate the square root of array 2 and print it\n",
    "# Your code here:\n"
   ]
  },
  {
   "cell_type": "markdown",
   "metadata": {},
   "source": [
    "**Linspace** - Another more controlled way of creating an array using a start, end, and number of points variables."
   ]
  },
  {
   "cell_type": "code",
   "execution_count": null,
   "metadata": {},
   "outputs": [],
   "source": [
    "start = 0\n",
    "finish = 5\n",
    "step = 0.5\n",
    "number = int((finish - start) / step) + 1\n",
    "\n",
    "array3 = np.linspace(start, finish, number)\n",
    "print(array3)\n",
    "# Create and print a new array from 5 to 7 with any number of elements\n",
    "# Your code here:\n"
   ]
  },
  {
   "cell_type": "markdown",
   "metadata": {},
   "source": [
    "**2-D Arrays** - You can create 2-D arrays by specifying a shape. Normally we initialise an array using ones or zeros then change the values inside."
   ]
  },
  {
   "cell_type": "code",
   "execution_count": null,
   "metadata": {},
   "outputs": [],
   "source": [
    "array4 = np.zeros((2,2))\n",
    "array5 = np.ones((2,2))\n",
    "\n",
    "print(array4)\n",
    "print(array5)\n",
    "\n",
    "# accessing a 2-D array [row, column], remember the first element is at index 0\n",
    "print(\"-----\")\n",
    "print(array4[1,1])\n",
    "\n",
    "# setting values in a 2-D array\n",
    "print(\"-----\")\n",
    "array4[1,1] = 1\n",
    "print(array4)"
   ]
  },
  {
   "cell_type": "markdown",
   "metadata": {},
   "source": [
    "**Maths with Numpy** - Numpy has very useful maths functions. We can't list them all here but you can access the number pi and compute logs easily enough."
   ]
  },
  {
   "cell_type": "code",
   "execution_count": null,
   "metadata": {},
   "outputs": [],
   "source": [
    "print(np.pi)\n",
    "print(np.log(10))"
   ]
  },
  {
   "cell_type": "markdown",
   "metadata": {},
   "source": [
    "## Saving your Work\n",
    "\n",
    "Always save your work at the end and download the **.ipynb** and other files you need to keep!\n",
    "\n",
    "## Over to You <a class=\"anchor\" id=\"OTY\"></a>\n",
    "\n",
    "Have a go at the tasks below. I haven't provided solutions and there are probably a few ways to solve each one! Remember if you are stuck you can consult the Python and NumPy docs at https://docs.python.org/3/, and https://numpy.org/doc/stable/, find help from one of these websites www.w3schools.com, www.python.org, www.learnpython.org or you can also get advice from www.stackoverflow.com. You can also ask your instructor for help or email me at astrodimitrios@gmail.com.\n",
    "\n",
    "**Task 1:** Create a list with at least 3 astronomical objects. Print the list.  \n",
    "**Task 2:** Print the second and third item in the list.  \n",
    "**Task 3:** Create an array using arange of the numbers 1-4. Print the square of those numbers.  \n",
    "**Task 4:** Create a new 2-D array of zeros with size (3,3). Set the diagonals to 1 and print the array."
   ]
  },
  {
   "cell_type": "code",
   "execution_count": null,
   "metadata": {},
   "outputs": [],
   "source": [
    "# Your code here:\n"
   ]
  },
  {
   "cell_type": "markdown",
   "metadata": {},
   "source": [
    "## Sharing\n",
    "\n",
    "If you share, use or modify this activity in any way use the citation in this [txt file](https://github.com/astroDimitrios/Astronomy/blob/master/CITATION.txt).    \n",
    "Please contact me at astrodimitrios@gmail.com with any suggestions, mistakes found, or general questions about teaching astronomy with Python.\n",
    "\n",
    "© Dimitrios Theodorakis GNU General Public License v3.0 \u000b\n",
    "https://github.com/astroDimitrios/Astronomy  "
   ]
  }
 ],
 "metadata": {
  "kernelspec": {
   "display_name": "Python [conda env:root] *",
   "language": "python",
   "name": "conda-root-py"
  },
  "language_info": {
   "codemirror_mode": {
    "name": "ipython",
    "version": 3
   },
   "file_extension": ".py",
   "mimetype": "text/x-python",
   "name": "python",
   "nbconvert_exporter": "python",
   "pygments_lexer": "ipython3",
   "version": "3.6.13"
  }
 },
 "nbformat": 4,
 "nbformat_minor": 4
}
