{
 "cells": [
  {
   "cell_type": "markdown",
   "metadata": {},
   "source": [
    "<center>\n",
    "    <img width=\"100%\" src=\"https://raw.githubusercontent.com/astroDimitrios/Astronomy/main/APBanner.png\" alt='A&P Logo'>\n",
    "</center>\n",
    "\n",
    "# Introductory Notebooks\n",
    "\n",
    "These notebooks are meant to serve as an introduction to Python and build up the skills necessary to work on the main AstPy activities.\n",
    "\n",
    "There are currently 4 activities for you to work your way through:\n",
    "\n",
    "| Number | Description |\n",
    "|------|------|\n",
    "|   1  | Introduction to Python and Numpy. | \n",
    "|   2  | Functions, IF staements, dictionaries, and list comprehension. | \n",
    "|   3  | Introduction to Pandas and Numpy. | \n",
    "|   4  | Iterating, string formatting, function arguments. | \n",
    "\n",
    "6 other activities are planned so stay tuned for more!"
   ]
  },
  {
   "cell_type": "markdown",
   "metadata": {},
   "source": [
    "## Saving your Work\n",
    "\n",
    "Always save your work at the end and download the **.ipynb** and other files you need to keep!"
   ]
  },
  {
   "cell_type": "markdown",
   "metadata": {},
   "source": [
    "## Sharing\n",
    "\n",
    "If you share, use or modify this activity in any way use the citation in this [txt file](https://github.com/astroDimitrios/Astronomy/blob/master/CITATION.txt).    \n",
    "Please contact me at astrodimitrios@gmail.com with any suggestions, mistakes found, or general questions about teaching astronomy with Python.\n",
    "\n",
    "© Dimitrios Theodorakis GNU General Public License v3.0 https://github.com/astroDimitrios/Astronomy "
   ]
  }
 ],
 "metadata": {
  "kernelspec": {
   "display_name": "Python 3",
   "language": "python",
   "name": "python3"
  },
  "language_info": {
   "codemirror_mode": {
    "name": "ipython",
    "version": 3
   },
   "file_extension": ".py",
   "mimetype": "text/x-python",
   "name": "python",
   "nbconvert_exporter": "python",
   "pygments_lexer": "ipython3",
   "version": "3.6.12"
  }
 },
 "nbformat": 4,
 "nbformat_minor": 4
}
