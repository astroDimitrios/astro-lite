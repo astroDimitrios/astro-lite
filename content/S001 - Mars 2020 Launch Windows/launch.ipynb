{
 "cells": [
  {
   "cell_type": "markdown",
   "metadata": {},
   "source": [
    "Name: __________________        Class: __________________     Date: __________________"
   ]
  },
  {
   "cell_type": "markdown",
   "metadata": {},
   "source": [
    "<center>\n",
    "    <img width=\"100%\" src=\"https://raw.githubusercontent.com/astroDimitrios/Astronomy/main/APBanner.png\" alt='A&P Logo'>\n",
    "</center>\n",
    "\n",
    "# Mars 2020 - Hohmann Orbits\n",
    "\n",
    "### AIM - Determine the next launch window to Mars\n",
    "Difficulty: Easy\n",
    "\n",
    "## Start:\n",
    "\n",
    "In this activity you are going to look at how scientists get rovers like Perseverance to Mars. This notebook is adapted from the NASA activity found [here](https://www.jpl.nasa.gov/edu/teach/activity/lets-go-to-mars-calculating-launch-windows/?utm_source=iContact&utm_medium=email&utm_campaign=nasajpl-edu&utm_content=m2msc_week2).\n",
    "\n",
    "<center>\n",
    "    <img width=\"50%\" src=\"./Images/perseverance_artist.png\" alt='Perseverance rover'>\n",
    "</center>\n",
    "\n",
    "## Contents\n",
    "\n",
    "* [Start](#Start)\n",
    "* [Assumptions](#ASS)\n",
    "* [Heliocentric Longitude](#LONG)\n",
    "* [Semi-major axis of the Orbit](#CALCA)\n",
    "* [Time to Mars](#TIME)\n",
    "* [The next Launch Window](#LAUNCH)\n",
    "* [Where to next?](#WHERE)\n",
    "* [Discussion](#DISS)\n",
    "* [Extension](#OTY)\n",
    "* [References](#REF)\n",
    "\n",
    "\n",
    "## Let's Go: <a class=\"anchor\" id=\"Start\"></a>\n",
    "\n",
    "To get a rover to Mars you first have to fire your rocket so that it escapes the Earth's gravitational pull. The rover then coasts in its housing to Mars and fires thrusters to slow down and land on the Martian surface at the end of its journey.\n",
    "\n",
    "The most energy efficient way of getting our rover to Mars is with a Hohmann transfer.\n",
    "A Hohmann transfer between the Earth and Mars is shown in the image below.\n",
    "\n",
    "<center>\n",
    "    <img width=\"75%\" src=\"./Images/hohmann_transfer.jpg\" alt='hohmann transfer'>\n",
    "</center>\n",
    "\n",
    "In this image the blue circle is the Earth's orbit, the red circle is Mars' orbit, and the grey line is the path taken by the spacecraft to Mars.\n",
    "\n",
    "Notice that there is also a dashed grey line in this image. The two grey lines together form the Hohmann orbit. So a Hohmann transfer is one half of a Hohmann orbit!\n",
    "\n",
    "For our transfer to work the spacecraft must leave Earth at the Hohmann orbit's perihelion (the point on the orbit when you're closest to the Sun) and arrive at Mars at the Hohmann orbit's aphelion (the point on the orbit when you're furthest from the Sun).\n",
    "\n",
    "<div class=\"alert alert-block alert-info\">\n",
    "    <p><strong>Assumptions</strong> </p><a class=\"anchor\" id=\"ASS\"></a>\n",
    "\n",
    "Before you go ahead and do any calculations we have to outline some assumptions:\n",
    "\n",
    "* The orbits of Earth and Mars are circular (they are in reality elliptical)\n",
    "* Earth and Mars travel at constant speeds (they don't - remember Kepler's 3rd law!)\n",
    "* The orbits of Earth and Mars are in the same plane (there is a small difference in their inclinations)</div>\n",
    "\n",
    "**Heliocentric Longitude** <a class=\"anchor\" id=\"LONG\"></a>\n",
    "\n",
    "We will be using heliocentric longitudes when talking about the positions of Earth and Mars. A heliocentric longitude is the position of an object with repsect to the Sun (hence helio - Sun, centric - centre). It is measured from the primary direction, which is the position of the Earth at the vernal equinox, around the ecliptic plane counterclockwise. The ecliptic plane is an imaginary disk swept out by a line connecting the Earth and the Sun as the Earth completes one orbit.\n",
    "\n",
    "This means at launch the Earth is at a longitude of $0^{\\circ}$ and at landing Mars is at $180^{\\circ}$. This is shown in the image below which looks down on the ecliptic plane.\n",
    "\n",
    "<center>\n",
    "    <img width=\"75%\" src=\"./Images/helio_long_2.jpg\" alt='heliocentric longitudes'>\n",
    "</center>\n",
    "\n",
    "**Calculating the Semi-Major Axis** <a class=\"anchor\" id=\"CALCA\"></a>\n",
    "\n",
    "Time to code! The first thing you will do is calculate the semi major axis $a$ of the transfer orbit. To do this you can use the equation below:\n",
    "\n",
    "$$a = \\frac{1}{2}(r_{Earth} + r_{Mars})$$\n",
    "\n",
    "where $r_{Earth}$ is the average distance from the Sun to the Earth or $1\\ AU$, and $r_{Mars}$ is the average distance from the Sun to Mars which is $1.52\\ AU$. Remember $AU$ stands for Astronomical Unit and $1\\ AU =  1.495978707\\times 10^{11}\\ m$.\n",
    "\n",
    "<div class=\"alert alert-block alert-success\">\n",
    "In the code cell below:\n",
    "\n",
    "* Enter the values for $r_{Earth}$ and $r_{Mars}$\n",
    "* Calculate $a$\n",
    "* Print the value of $a$ and its unit ($Au$)</div>"
   ]
  },
  {
   "cell_type": "code",
   "execution_count": null,
   "metadata": {},
   "outputs": [],
   "source": [
    "rEarth = '''Your code here'''\n",
    "rMars = '''Your code here'''\n",
    "a = '''Your code here'''\n",
    "'''Your code here'''"
   ]
  },
  {
   "cell_type": "markdown",
   "metadata": {},
   "source": [
    "**Time to Mars** <a class=\"anchor\" id=\"TIME\"></a>\n",
    "\n",
    "To calculate the travel time to Mars we need to calculate the orbital period of the Hohmann orbit (the time for one orbit). You can do this with Kepler's 3rd law which states that the orbital period, $P$ is proportional to the semi-major axis $a$. The law is represented by the equation:\n",
    "\n",
    "$$P^2 = ka^3$$\n",
    "\n",
    "Here $k$ is a constant you will work out for Earth first and then you can use that value in your Hohmann orbit calculation like this:\n",
    "\n",
    "$$k = \\frac{P_{Earth}^2}{a_{Earth}^3}$$\n",
    "\n",
    "$$P = \\sqrt{ka^3}$$\n",
    "\n",
    "To simpify matters use $P_{Earth} = 1\\ year$ and $a_{Earth} = 1\\ AU$.\n",
    "<div class=\"alert alert-block alert-success\">\n",
    "In the code cell below:\n",
    "\n",
    "* Enter the value for k\n",
    "* Calculate P\n",
    "* Print the value of k and its unit\n",
    "* Print the value of P and its unit</div>"
   ]
  },
  {
   "cell_type": "code",
   "execution_count": null,
   "metadata": {},
   "outputs": [],
   "source": [
    "import numpy as np\n",
    "\n",
    "k = '''Your code here'''\n",
    "P = np.sqrt('''Your code here''')\n",
    "\n",
    "'''Your code here'''\n",
    "'''Your code here'''"
   ]
  },
  {
   "cell_type": "markdown",
   "metadata": {},
   "source": [
    "<div class=\"alert alert-block alert-success\">In the next code cell lets convert $P$ into days. Then all we have to do is half the period $P$ to get the travel time to Mars. Remember this is because our Hohmann transfer is half a full Hohmann orbit.\n",
    "\n",
    "* Convert $P$ to days (use $1\\ year = 365.25\\ days$)\n",
    "* Half the period to get the travel time <strong>t_toMars</strong>\n",
    "* Print out a rounded value for <strong>t_toMars</strong> and its unit</div>"
   ]
  },
  {
   "cell_type": "code",
   "execution_count": null,
   "metadata": {},
   "outputs": [],
   "source": [
    "P_days = '''Your code here'''\n",
    "t_toMars = '''Your code here'''\n",
    "'''Your code here'''"
   ]
  },
  {
   "cell_type": "markdown",
   "metadata": {},
   "source": [
    "Amazing! You have just calculated the time it takes for our spaceraft to travel to Mars carrying the rover. Now we can work out the position Mars must be in at launch so that it has a longiutude of $180^{\\circ}$ when the spaceraft arrives.\n",
    "\n",
    "To do this we just need to work out how far Mars moves in degrees over our $\\approx 259$ day flight time and subtract that from the arrival longitude ($180^{\\circ}$).\n",
    "\n",
    "<div class=\"alert alert-block alert-success\">\n",
    "In the code cell below:\n",
    "\n",
    "* Calculate how many degrees Mars moves a day assuming it orbits the Sun in $687$ days\n",
    "* Times this value by the <strong>t_toMars</strong> variable to get how many degrees Mars has moved since launch - store this in the <strong>mars_moved</strong> variable\n",
    "* Subtract <strong>mars_moved</strong> from $180^{\\circ}$ to get our launch longitude\n",
    "* Print out a rounded value for the launch longitude and its unit</div>"
   ]
  },
  {
   "cell_type": "code",
   "execution_count": null,
   "metadata": {},
   "outputs": [],
   "source": [
    "mars_moved_day = '''Your code here'''\n",
    "mars_moved = '''Your code here'''\n",
    "launch_long = '''Your code here'''\n",
    "'''Your code here'''"
   ]
  },
  {
   "cell_type": "markdown",
   "metadata": {},
   "source": [
    "This means that Mars must be $44.6^{\\circ}$ ahead of the Earth at launch for a successful Hohmann transfer as shown in the image below:\n",
    "\n",
    "<center>\n",
    "    <img width=\"75%\" src=\"./Images/mars_launch.jpg\" alt='mars launch angle'>\n",
    "</center>\n",
    "\n",
    "The last thing to do is work out when Mars will be $44.6^{\\circ}$ ahead of the Earth in the future.\n",
    "\n",
    "**Calculating the Next Launch Window** <a class=\"anchor\" id=\"LAUNCH\"></a>\n",
    "\n",
    "I have included a file called **earth_mars_long.csv** with this notebook. You should see it on the filetree to the left of the screen. It contains heliocentric longitudes for Earth and Mars from 2010 up to 2030. The data was generated using [this](https://omniweb.gsfc.nasa.gov/coho/helios/heli.html) NASA website.\n",
    "\n",
    "Run the next code cell to load the data and see what's inside using the Pandas library."
   ]
  },
  {
   "cell_type": "code",
   "execution_count": null,
   "metadata": {},
   "outputs": [],
   "source": [
    "# run me - for JupyterLite\n",
    "from js import fetch\n",
    "\n",
    "URL = \"https://raw.githubusercontent.com/astroDimitrios/Astronomy/main/S001%20-%20Mars%202020%20Launch%20Windows/earth_mars_longs.csv\"\n",
    "\n",
    "res = await fetch(URL)\n",
    "text = await res.text()\n",
    "\n",
    "filename = 'earth_mars_longs.csv'\n",
    "\n",
    "with open(filename, 'w') as f:\n",
    "    f.write(text)"
   ]
  },
  {
   "cell_type": "code",
   "execution_count": null,
   "metadata": {},
   "outputs": [],
   "source": [
    "# run me\n",
    "import pandas as pd\n",
    "\n",
    "df = pd.read_csv('earth_mars_longs.csv')\n",
    "df.head()"
   ]
  },
  {
   "cell_type": "markdown",
   "metadata": {},
   "source": [
    "You can see we have 8 columns. The year is followed by the day of the year. Then we have the orbital radius, heliocentric latitude, and heliocentric longitude for the Earth. Then the same for Mars.\n",
    "\n",
    "Lets add another column which is the longitude for Mars minus the longitude for the Earth. Then we can select the dates where this column is $\\approx 44.6^{\\circ}$.\n",
    "\n",
    "Remember data in a pandas ```df``` is accessed like this:\n",
    "\n",
    "```Python\n",
    "years = df['YEAR']\n",
    "```\n",
    "\n",
    "and new columns made like this:\n",
    "\n",
    "```Python\n",
    "df['NEW_COL'] = df['YEAR'] + df['DAY']\n",
    "```\n",
    "In this example the new column would be the sum of the year and the day!\n",
    "\n",
    "<div class=\"alert alert-block alert-success\">\n",
    "In the code cell below:\n",
    "\n",
    "* Add a new column called LON_DIFF which is MARS_SE_LON minus EARTH_SE_LON\n",
    "* Use <strong>df.head()</strong> like we did above to see the new column</div>"
   ]
  },
  {
   "cell_type": "code",
   "execution_count": null,
   "metadata": {},
   "outputs": [],
   "source": [
    "df['LON_DIFF'] = '''Your code here'''\n",
    "'''Your code here'''"
   ]
  },
  {
   "cell_type": "markdown",
   "metadata": {},
   "source": [
    "Scroll to the right if you can't see the column. On January the 1st 2010 Mars was $\\approx 16.3^{\\circ}$ ahead of the Earth!\n",
    "\n",
    "All that's left for you to do is find the dates where this new ```LON_DIFF``` column is $\\approx 44.6^{\\circ}$.\n",
    "\n",
    "To find rows based on a column value we can use the ```loc``` function like this:\n",
    "\n",
    "```Python\n",
    "df_years = df.loc[(df['MARS_RAD_AU'] >= 1.50) & (df['MARS_RAD_AU'] <= 1.52)]\n",
    "df_years\n",
    "```\n",
    "\n",
    "This snippet would create a new dataframe called ```df_years``` which includes all the rows of our orginal dataframe where the column ```MARS_RAD_AU``` had values between $1.50$ and $1.52\\ AU$.\n",
    "<div class=\"alert alert-block alert-success\">\n",
    "In the code cell below:\n",
    "\n",
    "* Create a new dataframe ```df_launch``` which has all the rows of the original dataframe where the ```LON_DIFF``` column has values between $44.0^{\\circ}$ and $45.0^{\\circ}$ (not exactly $44.6^{\\circ}$ due to errors from our assumptions!)\n",
    "* Print this new dataframe\n",
    "* When is the next launch window according to your new table?</div>"
   ]
  },
  {
   "cell_type": "code",
   "execution_count": null,
   "metadata": {},
   "outputs": [],
   "source": [
    "df_launch = '''Your code here'''\n",
    "'''Your code here'''"
   ]
  },
  {
   "cell_type": "markdown",
   "metadata": {},
   "source": [
    "Do you see a pattern? Launch windows occur every two years and two months (specifically 780 days). You can see this cycle in the image below from NASA/JPL:\n",
    "\n",
    "<center>\n",
    "    <img width=\"75%\" src=\"./Images/NASAJPL_windows.jpg\" alt='launch windows'>\n",
    "</center>\n",
    "\n",
    "In this image you can see the distance between Earth and Mars plotted as a blue line. The launch windows occur just before Mars and the Earth are closest to each other. The dark blue triangle in 2020 is the Mars 2020 mission carrying the Perseverence rover! The Rosalind Franklin/ExoMars rover has been pushed to launch in 2022 during the next window.\n",
    "\n",
    "**Where to Next** <a class=\"anchor\" id=\"WHERE\"></a>\n",
    "\n",
    "Have a think about some of the questions in the discussion section below.\n",
    "\n",
    "Do some of the extension tasks below.\n",
    "\n",
    "Watch these awesome videos:\n",
    "\n",
    "* [Perseverance Launch to Mars](https://www.youtube.com/watch?v=JIB3JbIIbPU) on 30th July 2020 by NASA\n",
    "* [Getting to Mars](https://www.youtube.com/watch?list=PL9TFrgFq7557nWqmfuVngU22OhTpUE9gg&v=cA8ar8vwpTs&feature=emb_logo) by NASA/JPL\n",
    "* [Mars Launch Windows](https://www.youtube.com/watch?v=p4re3LCkNcg) by CGTN \n",
    "* [Perseverance Rover Landing Animation](https://www.youtube.com/watch?v=rzmd7RouGrM) by NASA/JPL"
   ]
  },
  {
   "cell_type": "markdown",
   "metadata": {},
   "source": [
    "## Saving your Work\n",
    "\n",
    "Always save your work at the end and download the **.ipynb** and other files you need to keep!\n",
    "\n",
    "## Discussion <a class=\"anchor\" id=\"DISS\"></a>\n",
    "\n",
    "* Do we have to launch the spacecraft on the exact day we found above? What happens if we launch early or late?\n",
    "* Research: What is the average length of a launch window to Mars.\n",
    "\n",
    "## Extensions <a class=\"anchor\" id=\"OTY\"></a>\n",
    "\n",
    "Have a go at the tasks below. I haven't provided solutions and there are probably a few ways to solve each one! Remember if you are stuck you can consult the Python and NumPy docs at https://docs.python.org/3/, and https://numpy.org/doc/stable/, find help from one of these websites www.w3schools.com, www.python.org, www.learnpython.org or you can also get advice from www.stackoverflow.com. You can also ask your instructor for help or email me at astrodimitrios@gmail.com.\n",
    "\n",
    "**Task 1:** When was the launch window before 2020? What missions were launched during this window, are they still working, and what did they discover?    \n",
    "**Task 2:** Alter the values of $44.0^{\\circ}$ and $45.0^{\\circ}$ which we used to select our launch windows. How much wider does this range have to be to see the 2022 launch window?    \n",
    "**Task 3:** Add some code below to work out where the Earth is in its orbit when the rover arrives at Mars.  \n",
    "**Task 4:** See if you can adapt your code to calculate a Hohmann transfer to Saturn or any other planet.    \n",
    "**Task 5:** Create an animation of a spaceship travelling on a Hohmann transfer to Mars using Matplotlib! "
   ]
  },
  {
   "cell_type": "code",
   "execution_count": null,
   "metadata": {},
   "outputs": [],
   "source": [
    "# Your code here:\n"
   ]
  },
  {
   "cell_type": "markdown",
   "metadata": {},
   "source": [
    "## References <a class=\"anchor\" id=\"REF\"></a>\n",
    "\n",
    "Shamelessley adapted from the NASA/JPL activity Let's Go to Mars! Calculating Launch Windows found [here](https://www.jpl.nasa.gov/edu/teach/activity/lets-go-to-mars-calculating-launch-windows/?utm_source=iContact&utm_medium=email&utm_campaign=nasajpl-edu&utm_content=m2msc_week2).\n",
    "\n",
    "All images are from NASA/JPL.\n",
    "\n",
    "Data taken from the HelioWeb NASA page [here](https://omniweb.gsfc.nasa.gov/coho/helios/heli.html). \n",
    "\n",
    "## Sharing\n",
    "\n",
    "If you share, use or modify this activity in any way use the citation in this [txt file](https://github.com/astroDimitrios/Astronomy/blob/master/CITATION.txt).    \n",
    "Please contact me at astrodimitrios@gmail.com with any suggestions, mistakes found, or general questions about teaching astronomy with Python.\n",
    "\n",
    "© Dimitrios Theodorakis GNU General Public License v3.0 \u000b\n",
    "\n",
    "https://github.com/astroDimitrios/Astronomy  "
   ]
  }
 ],
 "metadata": {
  "kernelspec": {
   "display_name": "Python 3",
   "language": "python",
   "name": "python3"
  },
  "language_info": {
   "codemirror_mode": {
    "name": "ipython",
    "version": 3
   },
   "file_extension": ".py",
   "mimetype": "text/x-python",
   "name": "python",
   "nbconvert_exporter": "python",
   "pygments_lexer": "ipython3",
   "version": "3.6.13"
  }
 },
 "nbformat": 4,
 "nbformat_minor": 4
}
