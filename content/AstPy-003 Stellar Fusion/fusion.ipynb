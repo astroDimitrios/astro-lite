{
 "cells": [
  {
   "cell_type": "markdown",
   "metadata": {},
   "source": [
    "Name: __________________        Class: __________________     Date: __________________"
   ]
  },
  {
   "cell_type": "markdown",
   "metadata": {},
   "source": [
    "<center>\n",
    "    <img width=\"100%\" src=\"https://raw.githubusercontent.com/astroDimitrios/Astronomy/main/APBanner.png\" alt='A&P Logo'>\n",
    "</center>\n",
    "\n",
    "# Stellar Fusion\n",
    "\n",
    "### AIM - Explain why we use different units when dealing with particles, describe binding energy, explain the process of fusion with calculations.\n",
    "Difficulty: Medium\n",
    "\n",
    "**Predict**\n",
    "\n",
    "Have a think about these questions and make some predictions! Be sure to tell someone else what you predict.\n",
    "\n",
    "1) How much energy does it take to bind two protons together?  \n",
    "2) Does fusing all atoms release energy?  \n",
    "3) How hot does the Sun have to be for fusion to occur?"
   ]
  },
  {
   "cell_type": "markdown",
   "metadata": {},
   "source": [
    "**Enter your predictions:**    \n",
    "1)    \n",
    "2)    \n",
    "3)    "
   ]
  },
  {
   "cell_type": "markdown",
   "metadata": {},
   "source": [
    "## Contents\n",
    "\n",
    "* [Start](#Start)\n",
    "* [Units and Particles](#UandP)\n",
    "* [Mass Excess, Mass Defect, and Binding Energy](#MEDB)\n",
    "* [Visualising Binding Energy](#VBE)\n",
    "* [Stellar Fusion](#Fusion)\n",
    "* [Coulomb Barrier](#CB)\n",
    "* [Challenges](#Challenges)\n",
    "* [References](#References)\n",
    "\n",
    "## Let's go: <a class=\"anchor\" id=\"Start\"></a>\n",
    "\n",
    "Import the required modules below:"
   ]
  },
  {
   "cell_type": "code",
   "execution_count": null,
   "metadata": {},
   "outputs": [],
   "source": [
    "# run me\n",
    "import numpy as np\n",
    "from numpy.random import default_rng\n",
    "import matplotlib.pyplot as plt\n",
    "import matplotlib.animation as animation\n",
    "from matplotlib import rc\n",
    "from IPython.display import Image\n",
    "%matplotlib inline"
   ]
  },
  {
   "cell_type": "markdown",
   "metadata": {},
   "source": [
    "## Units and Particles <a class=\"anchor\" id=\"UandP\"></a>\n",
    "\n",
    "Before we look at fusion we need to know about some elementary particles.  \n",
    "An atom is made up of protons and neutrons in a central nucleus, and electrons which orbit the nucleus.  \n",
    "These three particles are very small! The mass of a proton is defined below:"
   ]
  },
  {
   "cell_type": "code",
   "execution_count": null,
   "metadata": {},
   "outputs": [],
   "source": [
    "# run me\n",
    "pMass = 1.6726219236951*10**(-27) # kg"
   ]
  },
  {
   "cell_type": "markdown",
   "metadata": {},
   "source": [
    "This is a super small number! Lets introduce the atomic mass unit, $u$.  \n",
    "This lets us convert our proton mass to a larger number which is easier to work with.\n"
   ]
  },
  {
   "cell_type": "code",
   "execution_count": null,
   "metadata": {},
   "outputs": [],
   "source": [
    "# run me\n",
    "atomicMassUnit = 1.66054*10**(-27) # kg\n",
    "pMassInAMU = pMass/atomicMassUnit\n",
    "\n",
    "print(f\"Proton's mass in atomic mass units: {pMassInAMU} u\")"
   ]
  },
  {
   "cell_type": "markdown",
   "metadata": {},
   "source": [
    "This number is a lot easier to work with!\n",
    "\n",
    "Particles also have a rest energy associated with their mass by Einstein's famous equation $E = mc^2$.\n",
    "\n",
    "<div class=\"alert alert-block alert-success\">\n",
    "    Use this equation to calculate the rest energy of a Proton:</div>"
   ]
  },
  {
   "cell_type": "code",
   "execution_count": null,
   "metadata": {},
   "outputs": [],
   "source": [
    "c = 299792458 # m/s\n",
    "# Use Einstein's equation to calculate the rest energy of a Proton\n",
    "# Your code here:\n",
    "pEnergy = '''Your code here'''\n",
    "\n",
    "print(f\"Proton's rest energy: {pEnergy} J\")"
   ]
  },
  {
   "cell_type": "markdown",
   "metadata": {},
   "source": [
    "Hold on we used the mass in $kg$ here but we converted the mass into $u$ earlier to make the numbers easier to handle.  \n",
    "Let's see if we can change the energy into more workable units as well.\n",
    "\n",
    "We will convert Joules into electron volts ($eV$).  \n",
    "\n",
    "$$1 eV = 1.602176634\\times10^{-19} J$$   \n",
    "\n",
    "($1.602176634\\times10^{-19}$ is also the charge of an electron in Coulombs!)\n",
    "\n",
    "<div class=\"alert alert-block alert-success\">\n",
    "    Convert the Protons rest energy into units of $eV$:</div>"
   ]
  },
  {
   "cell_type": "code",
   "execution_count": null,
   "metadata": {},
   "outputs": [],
   "source": [
    "eV = 1.602176634*10**(-19) # J\n",
    "# Convert this rest energy to eV\n",
    "# Your code here:\n",
    "pEnergyeV = '''Your code here'''\n",
    "\n",
    "print(f\"Proton's rest energy: {pEnergyeV/1000000} MeV\")"
   ]
  },
  {
   "cell_type": "markdown",
   "metadata": {},
   "source": [
    "You'll notice we also divided by a million to print the answer in $MeV$.\n",
    "\n",
    "Actually we can skip a few steps if we define the proton's mass in $u$ from the beginning:\n"
   ]
  },
  {
   "cell_type": "code",
   "execution_count": null,
   "metadata": {},
   "outputs": [],
   "source": [
    "# run me\n",
    "pM = 1.00727646662153 # proton mass in u\n",
    "\n",
    "print(f\"{round(pM,5)==round(pMassInAMU,5)} - Yay! The accepted value is close to our calculated mass.\")"
   ]
  },
  {
   "cell_type": "markdown",
   "metadata": {},
   "source": [
    "We can then use the atomic mass unit energy equivalence to convert $u$ to $MeV$.\n",
    "\n",
    "$$u = 931.4941024228 MeV/c^2$$\n",
    "\n",
    "<div class=\"alert alert-block alert-success\">\n",
    "Calculate the Protons rest energy again but this time use atomic mass units. Give the answer in $MeV$:</div>"
   ]
  },
  {
   "cell_type": "code",
   "execution_count": null,
   "metadata": {},
   "outputs": [],
   "source": [
    "utoE = 931.4941024228 # MeV/c^2\n",
    "# Calculate the proton's rest energy again but this time use atomic mass units\n",
    "# Your code here:\n",
    "pE = '''Your code here'''\n",
    "print(f\"Proton's rest energy: {pE} MeV\")\n",
    "\n",
    "print(f\"{round(pE,3)==round(pEnergyeV/1000000,3)} - Yay! Our two values are in agreement.\")"
   ]
  },
  {
   "cell_type": "markdown",
   "metadata": {},
   "source": [
    "## Over to you: \n",
    "\n",
    "\n",
    "<div class=\"alert alert-block alert-success\">\n",
    "Caculate the mass of a neutron in $u$ and its rest energy in $MeV$.\n",
    "Are the numbers the same for protons and neutrons? Do the same for an electron.\n",
    "You will need the mass of a neutron and an electron:\n",
    "\n",
    "$$m_n = 1.6749274980495\\times10^{−27} kg$$\n",
    "$$m_e = 9.109383701528\\times10^{-31} kg$$\n",
    "</div>"
   ]
  },
  {
   "cell_type": "code",
   "execution_count": null,
   "metadata": {},
   "outputs": [],
   "source": [
    "# Calculate the mass of a neutron in u and its rest energy in MeV\n",
    "# Your code below:\n",
    "nM = '''Your code here'''  # neutron mass in u\n",
    "nE = '''Your code here'''  # neutron energy in MeV\n",
    "eM = '''Your code here'''  # electrom mass in u\n",
    "eE = '''Your code here'''  # electron energy in MeV"
   ]
  },
  {
   "cell_type": "markdown",
   "metadata": {},
   "source": [
    "# Mass Excess, Mass Defect, and Binding Energy <a class=\"anchor\" id=\"MEDB\"></a>\n",
    "\n",
    "Now we know about the different units we are going to use let's start looking at nuclei.\n",
    "Why nuclei? The temperatures needed to fuse elements are so high that fusion occurs in a plasma where electrons are striped from the atom leaving behind a 'soup' of electrons and nuclei.\n",
    "It is these nuclei that fuse together.\n",
    "\n",
    "Lets look at the ${^{1}_{1}H}$ Hydrogen atom and its nucleus. It has an Atomic Number ($Z$) of $1$ and a Mass Number ($A$) of $1$. $Z$ is the number of protons in our nucleus (and the number of electrons in an atom). $A$ is the number of protons and neutrons in the nucleus. Later we'll need the number of neutrons in a nucleus which we can find using $A-Z$.\n",
    "\n",
    "The mass of the Hydrogen atom is actually greater than the $1\\ u$ given by the mass number of Hydrogen. It's ${^{1.0078}_{1}H}$. This extra mass is called the [mass excess](https://en.wikipedia.org/wiki/Mass_excess), it's the actual mass minus the mass number. Let's calculate this mass excess, $\\Delta M$.\n",
    "\n",
    "$$\\Delta M = m - A$$"
   ]
  },
  {
   "cell_type": "code",
   "execution_count": null,
   "metadata": {},
   "outputs": [],
   "source": [
    "# run me\n",
    "deltaM_H = 1.0078250321-1\n",
    "print(f\"Mass excess for 1H atom: {deltaM_H} u\")\n",
    "print(f\"Mass excess for 1H atom: {deltaM_H*utoE*1000} keV\")"
   ]
  },
  {
   "cell_type": "markdown",
   "metadata": {},
   "source": [
    "Notice this is the mass excess for the atom. Getting the excess for the nucleus is more complicated and requires us to subtract the mass of the electron and consider binding energies. This will become clearer later but for those interested:\n",
    "\n",
    "$$m_{nucleus} = m - Zm_e + B_e$$\n",
    "\n",
    "The mass of the nucleus, $m_{nucleus}$, is the atomic mass $m$ minus the electron mass $m_e$ plus the electron binding energy $B_e$ ($13.6\\ eV$ binding energy for Hydrogen). This assumes all values are in $eV$. After you have this nuclear mass you can consider a mass excess for the nucleus.\n",
    "\n",
    "$^{12}C$ is defined to have a mass excess of $0$! In fact this is because the definition of the atomic mass unit $u$ is $1/12$ the mass of a $^{12}C$ atom.\n",
    "<div class=\"alert alert-block alert-success\">\n",
    "Try calculating the mass excess of of an ${^{4.002603}_2 He}$ atom below:</div>"
   ]
  },
  {
   "cell_type": "code",
   "execution_count": null,
   "metadata": {},
   "outputs": [],
   "source": [
    "# Your code here:\n",
    "deltaM_He = '''Your code here'''\n",
    "print(f\"Mass excess for 4He atom: {deltaM_He} u\")"
   ]
  },
  {
   "cell_type": "markdown",
   "metadata": {},
   "source": [
    "## Mass Defect\n",
    "\n",
    "Mass excess was the difference between the actual mass and the mass number. [Mass Defect](https://www.sciencedirect.com/topics/engineering/mass-defect) is the difference between the actual mass, $m_A$, and the sum of the masses of all particles making up the atom (the calculated mass). Stable nuclei have a negative mass defect. You can work out the mass defect $\\Delta m$ using:\n",
    "\n",
    "$$\\Delta m = m_A - Z(m_p+m_e) - (A-Z)m_n$$\n",
    "<div class=\"alert alert-block alert-success\">\n",
    "Try using this equation to calculate the mass defect of ${^{4.002603}_2 He}$:</div>"
   ]
  },
  {
   "cell_type": "code",
   "execution_count": null,
   "metadata": {},
   "outputs": [],
   "source": [
    "# you will need the masses of an electron and neutron in amu you calculated earlier\n",
    "# remember A and Z are integers (you can't have part of a particle!)\n",
    "# Your code here:\n",
    "deltaM_defect_He = '''Your code here'''\n",
    "print(f\"Mass defect for 4He atom: {deltaM_defect_He} u\")"
   ]
  },
  {
   "cell_type": "markdown",
   "metadata": {},
   "source": [
    "This value of $-0.03\\ u$ is $0.8\\%$ the mass of the $2$ protons, $2$ neutrons, and $2$ electrons added together! Again this value is for an atom. To get the defect of just the nucleus we would need a value for $m_{nucleus}$ first.\n",
    "\n",
    "## Binding Energy\n",
    "\n",
    "[Nuclear binding energy](https://en.wikipedia.org/wiki/Nuclear_binding_energy) is the energy needed to break a nucleus into protons and neutrons.  \n",
    "Electron binding energy is the energy needed to break the electrons free from the atom. More correctly the atomic binding energy is the energy to break all the electrons free whereas the electron binding energy is just to break one specific electron free and is also sometimes called the ionisation energy.\n",
    "\n",
    "Think of it this way:\n",
    "\n",
    "$${^{1.0078}_{1}H} + electron\\ binding\\ energy = p$$\n",
    "\n",
    "$${^{4.0026}_{2}He^{2+}} + nuclear\\ binding\\ energy = 2p + 2n$$\n",
    "\n",
    "Since fusion deals with nuclei we will only consider nuclear binding energy which is commonly expressed as binding energy per nucleon in keV or MeV (nucleon being a proton or neutron). The binding energy per nucleon for ${^{1.0078}_{1}H}$ is $0$ because there is only one nucleon.\n",
    "\n",
    "<div class=\"alert alert-block alert-warning\">\n",
    "<strong>Note:</strong> \n",
    "\n",
    "Electron binding energy's are order of magnitudes lower than nuclear binding energies and the mass of the electron is much smaller than the mass of any nucleus. This means that while I've tried to be careful with our working and state whether we are looking at the atom or just the nucleus; because the electrons and their binding energies are so small we can assume the atomic values for mass excess, defect etc are the same as the values for the nucleus. If we truly wanted the nuclear binding energy we would first need to calculate the mass of the nucleus, $m_{nucleus}$ (see equation way above). Then we use this mass to calculate the mass defect for the nucleus.</div>\n",
    "\n",
    "\n",
    "<div class=\"alert alert-block alert-success\">\n",
    "You can use the mass defect to calculate the binding energy of ${^{4.002603}_2 He}$, just times the mass defect by the energy equivalence of u:</div>"
   ]
  },
  {
   "cell_type": "code",
   "execution_count": null,
   "metadata": {},
   "outputs": [],
   "source": [
    "# here we are ignoring the binding energy and mass of the electrons since they are so small!\n",
    "# remember the final energy should be positive, print your result\n",
    "# Your code here:\n",
    "BE_He = '''Your code here'''\n",
    "print(f\"Binding Energy for 4He nucleus: {BE_He} MeV\")"
   ]
  },
  {
   "cell_type": "markdown",
   "metadata": {},
   "source": [
    "<div class=\"alert alert-block alert-success\">The binding energy is usually quoted per nucleon so divide the energy by the nucleon number of Helium:</div>"
   ]
  },
  {
   "cell_type": "code",
   "execution_count": null,
   "metadata": {},
   "outputs": [],
   "source": [
    "# Your code here:\n",
    "BE_He_perA = '''Your code here'''\n",
    "print(f\"Binding Energy per Nucleon for 4He nucleus: {BE_He_perA} MeV\")"
   ]
  },
  {
   "cell_type": "markdown",
   "metadata": {},
   "source": [
    "If you managed to follow all of that then great! Don't worry if you need to go back and re-visit these concepts or if it gave you a headache - it certainly did for me when I first wrote this activity. What we should really do is defer to the experts and use experimentally calculated values for binding energy which we will look at below!\n",
    "\n",
    "## Visualising Binding Energy <a class=\"anchor\" id=\"VBE\"></a>\n",
    "\n",
    "Before we move on let's look at the binding energy per nucleon for all the elements. We can use the library Pandas to analyse data from the Atomic Mass Data Center which is in the csv \"mass16Abundant.csv\"."
   ]
  },
  {
   "cell_type": "code",
   "execution_count": null,
   "metadata": {},
   "outputs": [],
   "source": [
    "# run me - for JupyterLite\n",
    "from js import fetch\n",
    "\n",
    "URL = \"https://raw.githubusercontent.com/astroDimitrios/Astronomy/main/AstPy-003%20Stellar%20Fusion/mass16Abundant.csv\"\n",
    "\n",
    "res = await fetch(URL)\n",
    "text = await res.text()\n",
    "\n",
    "filename = 'mass16Abundant.csv'\n",
    "\n",
    "with open(filename, 'w') as f:\n",
    "    f.write(text)"
   ]
  },
  {
   "cell_type": "code",
   "execution_count": null,
   "metadata": {},
   "outputs": [],
   "source": [
    "# run me\n",
    "import pandas as pd\n",
    "\n",
    "df = pd.read_csv('mass16Abundant.csv')"
   ]
  },
  {
   "cell_type": "markdown",
   "metadata": {},
   "source": [
    "This loads the nuclear data for the most abundant isotope for each element.  \n",
    "We can have a look at the data using the ```df.head()``` command:"
   ]
  },
  {
   "cell_type": "code",
   "execution_count": null,
   "metadata": {},
   "outputs": [],
   "source": [
    "# run me\n",
    "print(df.head())"
   ]
  },
  {
   "cell_type": "markdown",
   "metadata": {},
   "source": [
    "This printed out the header and the first five rows. You can see data for the elements Hydrogen to Boron.  \n",
    "<div class=\"alert alert-block alert-success\">\n",
    "Complete the cell below to plot the binding energy per nucleon ($keV$ per nucleon) against the atomic number ($Z$):</div>"
   ]
  },
  {
   "cell_type": "code",
   "execution_count": null,
   "metadata": {},
   "outputs": [],
   "source": [
    "fig = plt.figure(1)\n",
    "# Add axis labels to this graph!\n",
    "# Your code here:\n",
    "'''Your code here'''\n",
    "'''Your code here'''\n",
    "\n",
    "plt.scatter(df[\"Z\"], df[\"BINDING ENERGY (keV)\"], marker='o', alpha=0.75)"
   ]
  },
  {
   "cell_type": "markdown",
   "metadata": {},
   "source": [
    "Remember we access the data in a column using: \n",
    "```python \n",
    "df[\"Name of Column\"]\n",
    "``` \n",
    "\n",
    "This isn't very pretty. Take a look at this animation I made earlier: https://youtu.be/JX85hyKpPOw"
   ]
  },
  {
   "cell_type": "markdown",
   "metadata": {},
   "source": [
    "Great! Now we can see the binding energy per nucleon for the most abundant isotopes of each element. We have labelled Iron ($Fe$) because it has the highest binding energy per nucleon (on this graph*). For elements past Iron fusion requires energy instead of releasing it. This means a star can only fuse elements up to Iron (if it's big and hot enough to do so). \n",
    "\n",
    "\\* $^{62}Ni$ has the highest binding energy per nucleon but is not the most abundant isotope of $Ni$ so isn't shown on this graph. $^{58}Fe$ has the second highest binding energy per nucleon but is much less abundant than the $^{56}Fe$ isotope shown on this graph!\n",
    "\n",
    "# Stellar Fusion <a class=\"anchor\" id=\"Fusion\"></a>\n",
    "\n",
    "The main fusion reaction in the sun is the following:\n",
    "\n",
    "$$4{^{1.0078}_{1}H^{+}}\\rightarrow{^{4.0026}_{2}He^{2+}}+2e^{+}+2\\nu_{e}$$\n",
    "\n",
    "Where $H^{+}$ is a hydrogen nucleus (a proton), ${^{4.0026}_{2}He^{2+}}$ is a Helium nucleus, $e^{+}$ is a positron, and $\\nu_{e}$ is an electron neutrino.  \n",
    "There are multiple steps within this overall reaction which we have ignored (see the [p-p chain](https://en.wikipedia.org/wiki/Proton%E2%80%93proton_chain_reaction)).\n",
    "\n",
    "We can use this equation to calculate a [$Q$ value](https://en.wikipedia.org/wiki/Q_value_(nuclear_science)) for the reaction.  \n",
    "If energy is released $Q > 0$. If energy is used $Q < 0$.\n",
    "\n",
    "$$Q/c^2 = 4 \\Delta{^{1.0078}_{1}H^{+}}-\\Delta{^{4.0026}_{2}He^{2+}}-4m_e$$\n",
    "\n",
    "This is the initial mass excess minus the final mass excess. Minus the mass of those pesky electrons, $-4\\ m_e$ from the $4$ Hydrogen, $-(-2\\ m_e)$ from the Helium and $-2\\ m_e$ from the positrons giving the final term in the equation $-4\\ m_e - (-2\\ m_e) - 2\\ m_e = -4\\ m_e$.\n",
    "If we use mass excess values in terms of $eV$ we can ignore the $/c^2$ term (which is from Einstein's equation) and our value of $Q$ will be in $eV$.\n"
   ]
  },
  {
   "cell_type": "code",
   "execution_count": null,
   "metadata": {},
   "outputs": [],
   "source": [
    "# run me\n",
    "me = 511 # keV\n",
    "Q = 4*df[\"MASS EXCESS (keV)\"][0] - df[\"MASS EXCESS (keV)\"][1] - 4*me\n",
    "Q /= 1000\n",
    "print(f\"Q = {round(Q,3)} MeV\")"
   ]
  },
  {
   "cell_type": "markdown",
   "metadata": {},
   "source": [
    "That's a lot of energy per reaction!\n",
    "<div class=\"alert alert-block alert-success\">\n",
    "If the two positrons annihilate with two electrons in the plasma (which they most likely will) then an extra $4\\ m_e$ of energy is produced.\n",
    "Calculate the new $Q$ value taking this into account:</div>"
   ]
  },
  {
   "cell_type": "code",
   "execution_count": null,
   "metadata": {},
   "outputs": [],
   "source": [
    "# Calculate the new Q value taking into account the 4me\n",
    "# Your code here:\n",
    "Q = '''Your code here'''\n",
    "Q /= 1000\n",
    "print(f\"Q = {round(Q,3)} MeV\")"
   ]
  },
  {
   "cell_type": "markdown",
   "metadata": {},
   "source": [
    "This is now simply the initial mass excess minus the final mass excess without worrying about those electrons (remember earlier we said this was valid because the electrons are so small!). The $Q$ value is approximately $0.7\\%$ the energy of the original 4 Hydrogen atoms. We can use this fact to estimate how long the sun can shine by fusing Hydrogen only.  \n",
    "We have to assume that:\n",
    " - The sun was initially 100% Hydrogen\n",
    " - The sun can only convert the inner 10% to Helium\n",
    " \n",
    "This means only $0.007\\times 0.1\\times M_\\odot$ is converted to energy ($M_\\odot$ is the mass of the sun)."
   ]
  },
  {
   "cell_type": "code",
   "execution_count": null,
   "metadata": {},
   "outputs": [],
   "source": [
    "# run me\n",
    "mSun = 1.989*10**30                   # kg\n",
    "Enuclear = 0.007*(0.1*mSun)*c**2      # J\n",
    "print(f\"Total Energy from fusing Hydrogen in the Sun = {Enuclear:.2e} J\")\n",
    "Lsun = 3.828*10**26                   # W (J/s)\n",
    "# Divide the total energy by the energy radiated per second by the Sun (the luminosity of the sun)\n",
    "tnuclear = Enuclear/Lsun              # This gives us a time in seconds\n",
    "print(f\"Sun's Hydrogen fusing lifetime = {tnuclear/3600/24/365.25:.1e} years\")"
   ]
  },
  {
   "cell_type": "markdown",
   "metadata": {},
   "source": [
    "That's a long time to be shining! Our Sun will spend approximately $10$ billion years on the main sequence by our calculations and since it's $4.6$ billion years old it has another $5.4$ billion years to shine!\n",
    "\n",
    "Let's finish this activity by looking at the energy needed for two protons to fuse which is the first step when fusing Hydrogen into Helium (as part of the pp chain).\n",
    "\n",
    "## Coulomb Barrier <a class=\"anchor\" id=\"CB\"></a>\n",
    "\n",
    "Nucleons attract each other via the strong force.  \n",
    "Charged particles repel each other via the electrostatic (also called Coulomb) force.\n",
    "\n",
    "The first stage of fusion in a star is two protons colliding. To fuse they need to overcome their repulsion.\n",
    "More precisely they need to overcome the [Coulomb Barrier](http://hyperphysics.phy-astr.gsu.edu/hbase/NucEne/coubar.html) by having a certain energy.\n",
    "\n",
    "This potential energy barrier is approximated by the [electric potential energy](https://en.wikipedia.org/wiki/Electric_potential_energy):\n",
    "\n",
    "$$V_c(r) = 14.3996\\ \\frac{Z_1Z_2e^2}{r}$$\n",
    "\n",
    "at distances greater than\n",
    "\n",
    "$$r_n \\approxeq 1.44\\times10^{-15}(A_1^{\\frac{1}{3}}+A_2^{\\frac{1}{3}})\\ m$$\n",
    "\n",
    "Here $Z_1$ and $Z_2$ are the atomic numbers, $A_1$ and $A_2$ are the mass numbers, and $e$ is the charge of an electron. Using units of $eV$ and Angstrom ($\\mathring{A} = 10^{-10}\\ m$) we get $V_c(r)$ in $eV$.\n",
    "\n",
    "The potential energy at the top of the barrier is:\n",
    "\n",
    "$$V_b \\approxeq V_c(r_n) = Z_1Z_2\\ /\\ (A_1^{\\frac{1}{3}}+A_2^{\\frac{1}{3}})\\ MeV$$\n",
    "\n",
    "At distances closer than $r_n$ the nuclei fuse and drop into the \"nuclear well\" which has a negative potential (they release energy).\n",
    "\n",
    "<div class=\"alert alert-block alert-success\">\n",
    "Complete the cell below to visualise the barrier for two protons:</div>"
   ]
  },
  {
   "cell_type": "code",
   "execution_count": null,
   "metadata": {},
   "outputs": [],
   "source": [
    "rn = 1.44*(1**(1/3)+1**(1/3)) # fm     since we ignored the 10^-15\n",
    "\n",
    "# array of distance values, find the index where r=rn\n",
    "r = np.arange(0,10.01,0.01)   # fm\n",
    "indrn = np.where(r==rn)[0][0]\n",
    "\n",
    "# initialise the Vc(r) array\n",
    "Vc = np.zeros(len(r))\n",
    "\n",
    "# for r greater than rn calculate the electric potential energy\n",
    "for i in range(indrn+1,len(r)):\n",
    "    # use the first equation from electric potential energy to complete the code below\n",
    "    # here we need to convert r to Angstrom (divide r[i] by 10^5) and then divide by a million to get MeV\n",
    "    # remember e is 1 in units of eV\n",
    "    # Your code here:\n",
    "    Vc[i] = '''Your code here''' # MeV\n",
    "    \n",
    "# set the barrier potential energy at rn (last equation)\n",
    "# Your code here:\n",
    "Vb = '''Your code here'''\n",
    "Vc[indrn] = Vb # MeV\n",
    "\n",
    "# set the nuclear well potential energy to the binding energy of the product (in this case deuterium)\n",
    "bEDeuterium = -1112.283/1000 # MeV    taken from the mass16.csv we saw earlier!\n",
    "# set potentials closer than rn to equal the well energy\n",
    "for i in range(0,indrn):\n",
    "    Vc[i] = bEDeuterium"
   ]
  },
  {
   "cell_type": "markdown",
   "metadata": {},
   "source": [
    "Make sure you read through the comments in the code above so you know what's happening. We have constructed an array of distances and potentials. Now lets plot them:"
   ]
  },
  {
   "cell_type": "code",
   "execution_count": null,
   "metadata": {},
   "outputs": [],
   "source": [
    "# run me\n",
    "fig2 = plt.figure(2)\n",
    "plt.xlabel(\"r / fm\")\n",
    "plt.ylabel(\"Energy / MeV\")\n",
    "plt.plot(r,Vc,c=\"k\",linewidth=1)"
   ]
  },
  {
   "cell_type": "markdown",
   "metadata": {},
   "source": [
    "Great! Let's load a version that I made earlier to have a look at:"
   ]
  },
  {
   "cell_type": "code",
   "execution_count": null,
   "metadata": {},
   "outputs": [],
   "source": [
    "# run me\n",
    "Image(url=\"https://raw.githubusercontent.com/astroDimitrios/Astronomy/main/AstPy-003%20Stellar%20Fusion/ppCoulombBarrier.png\")"
   ]
  },
  {
   "cell_type": "markdown",
   "metadata": {},
   "source": [
    "You can see the potential energy increases with decreasing $r$ until the barrier energy $V_b$ at $r_n$. Then the nuclei fuse! Since the product of two protons fusing is deuterium the value of the \"nuclear well\" $U_0$ is the binding energy of deuterium (you can find this in mass16.csv).\n",
    "\n",
    "In reality quantum tunneling allows the nuclei to 'tunnel' through the peak of the barrier.\n",
    "This means they don't need as high an energy to fuse.\n",
    "Since energy is related to temperature, a lower required energy means the required temperature is also lower.  \n",
    "If it weren't for quantum tunneling the probability of fusion in our sun would be very small!\n",
    "\n",
    "# Challenge <a class=\"anchor\" id=\"Challenges\"></a>\n",
    "\n",
    "1) Recreate my Binding Energy Plot (or create the more common B/A vs A plot)  \n",
    "2) Calculate the energy released for each step of the p-p chain  \n",
    "3) Create a barrier plot for the next step of the p-p chain  \n",
    "\n",
    "Write your code below!"
   ]
  },
  {
   "cell_type": "code",
   "execution_count": null,
   "metadata": {},
   "outputs": [],
   "source": [
    "# Your code here:\n"
   ]
  },
  {
   "cell_type": "markdown",
   "metadata": {},
   "source": [
    "# References and Resources <a class=\"anchor\" id=\"References\"></a>\n",
    "\n",
    "1) Atzeni, S. and Meyer-ter-Vehn, J. (2004) The Physics of Inertial Fusion, OUP, ISB: 9780198562641, Url: http://www.fisicanucleare.it/documents/0-19-856264-0.pdf  \n",
    "2) Shatz, H. (2020) The mass of a nucleus, Url: https://people.nscl.msu.edu/~schatz/PHY983_13/Lectures/mass.pdf  \n",
    "3) Mihos, C. (2020) Stars and Planets, Url: http://burro.astr.cwru.edu/Academics/Astr221/StarPhys/nuclear.html\n",
    " \n",
    "4) Nuclear Data from the Atomic Mass Data Center (AMDC) - https://www.jinaweb.org/science-research/scientific-resources/data  \n",
    "5) Table of Isotopic Masses and Natural Abundances - http://www.sophphx.caltech.edu/Physics_6/Mathematica%20Notebooks/Mass%20Spectrometer%20Exp%209/element%20data/atomic_mass_abund.pdf\n",
    "\n",
    "\n",
    "**Notes:**\n",
    "\n",
    "For reference 1:\n",
    "* link is dead :( - pdf is included in this directory\n",
    "\n",
    "For reference 5:\n",
    "* link is dead :( - pdf is included in this directory\n",
    "* the data is from G. Audi, A. H. Wapstra Nucl. Phys A. 1993, 565, 1-65 and G. Audi, A. H. Wapstra Nucl. Phys A. 1995,595, 409-480.   \n",
    "* the percent natural abundance data is from the 1997 report of the IUPAC Subcommittee for IsotopicAbundance Measurements by K.J.R. Rosman, P.D.P. Taylor Pure Appl. Chem.1999, 71, 1593-1607.\n",
    "\n",
    "## Sharing\n",
    "\n",
    "If you share, use or modify this activity in any way use the citation in this [txt file](https://github.com/astroDimitrios/Astronomy/blob/master/CITATION.txt).    \n",
    "Please contact me at astrodimitrios@gmail.com with any suggestions, mistakes found, or general questions about teaching astronomy with Python.\n",
    "\n",
    "© Dimitrios Theodorakis GNU General Public License v3.0 \u000b\n",
    "\n",
    "\n",
    "https://github.com/astroDimitrios/Astronomy  "
   ]
  }
 ],
 "metadata": {
  "kernelspec": {
   "display_name": "Python 3",
   "language": "python",
   "name": "python3"
  },
  "language_info": {
   "codemirror_mode": {
    "name": "ipython",
    "version": 3
   },
   "file_extension": ".py",
   "mimetype": "text/x-python",
   "name": "python",
   "nbconvert_exporter": "python",
   "pygments_lexer": "ipython3",
   "version": "3.6.13"
  }
 },
 "nbformat": 4,
 "nbformat_minor": 4
}
