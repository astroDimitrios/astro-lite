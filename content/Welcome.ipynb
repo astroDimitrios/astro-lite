{
 "cells": [
  {
   "cell_type": "markdown",
   "metadata": {},
   "source": [
    "<center>\n",
    "    <img width=\"100%\" src=\"https://raw.githubusercontent.com/astroDimitrios/Astronomy/main/APBanner.png\" alt='A&P Logo'>\n",
    "</center>\n",
    "\n",
    "# Welcome!\n",
    "\n",
    "Welcome to the experimental JupyterLite demo. Here you can access some of the Astronomy and Python activities directly in your browser!\n",
    "\n",
    "This welcome document is an interactive Jupyter Notebook just like the activities. It is made of markdown (text) cells like this one, and grey code cells like the one below. To edit a markdown cell double click on it. A single click does the trick for code cells. To exit a markdown cell or run a piece of code press ```Shift+Enter```! Try running the code cell below!"
   ]
  },
  {
   "cell_type": "code",
   "execution_count": 1,
   "metadata": {},
   "outputs": [
    {
     "name": "stdout",
     "output_type": "stream",
     "text": [
      "I <3 Astronomy\n"
     ]
    }
   ],
   "source": [
    "print(\"I <3 Astronomy\")"
   ]
  },
  {
   "cell_type": "markdown",
   "metadata": {},
   "source": [
    "Creating a new notebook is simple. Go to File -> New -> Notebook.\n",
    "\n",
    "To go to an activity click on one of the links below. JupyterLite will reload with the requested notebook. Alternately you can navigate to the requested activity using the file explorer on the left.\n",
    "\n",
    "## Activities\n",
    "\n",
    "[AstPy-001](https://www.astropython.com/astro-lite/lab?path=AstPy-001+Intro+Activities%2FREADME.ipynb) Intro Activities      \n",
    "[AstPy-003](https://www.astropython.com/astro-lite/lab?path=AstPy-003+Stellar+Fusion%2Ffusion.ipynb) Stellar Fusion    \n",
    "\n",
    "Specials:\n",
    "\n",
    "[S001](https://www.astropython.com/astro-lite/lab?path=S001+-+Mars+2020+Launch+Windows%2Flaunch.ipynb) Mars 2020 Launch Windows\n",
    "\n",
    "Documentation for the activities can be found on my [GitHub](https://github.com/astroDimitrios/Astronomy) or on [astropython.com](https://www.astropython.com/). If you need help or find mistakes (yikes) contact me via email - astrodimitrios@gmail.com.\n",
    "\n",
    "**NOTE:** These activities run in your browser using the experimental JupyterLite project. If you want to keep your work please download it to your local computer, do NOT assume it is safe forever stored in your browser. \n",
    "\n",
    "## Thanks\n",
    "\n",
    "Thanks to these open source projects I am able to provide my activities online for free.\n",
    "\n",
    "Jupyter - [https://jupyter.org/](https://jupyter.org/)      \n",
    "JupyterLite - [https://jupyterlite.readthedocs.io/en/latest/](https://jupyterlite.readthedocs.io/en/latest/)       \n",
    "The Littlest JupyterHub - [https://tljh.jupyter.org/en/latest/](https://tljh.jupyter.org/en/latest/)    \n",
    "nbgitpuller - [https://jupyterhub.github.io/nbgitpuller/](https://jupyterhub.github.io/nbgitpuller/)    \n",
    "NumPy - [https://numpy.org/](https://numpy.org/)    \n",
    "SciPy - [https://www.scipy.org/](https://www.scipy.org/)     \n",
    "Pandas - [https://pandas.pydata.org/](https://pandas.pydata.org/)     \n",
    "Astropy = [https://www.astropy.org/](https://www.astropy.org/)\n",
    "\n",
    "and many more! References and acknowledgements for individual activities are included in the respective GitHub README files and at the end of the interactive activities.\n",
    "\n",
    "## Sharing\n",
    "\n",
    "If you share, use or modify this activity in any way use the citation in this [txt file](https://github.com/astroDimitrios/Astronomy/blob/master/CITATION.txt).    \n",
    "Please contact me at astrodimitrios@gmail.com with any suggestions, mistakes found, or general questions about teaching astronomy with Python.\n",
    "\n",
    "© Dimitrios Theodorakis GNU General Public License v3.0 https://github.com/astroDimitrios/Astronomy \n",
    "\n"
   ]
  }
 ],
 "metadata": {
  "kernelspec": {
   "display_name": "Python 3",
   "language": "python",
   "name": "python3"
  },
  "language_info": {
   "codemirror_mode": {
    "name": "ipython",
    "version": 3
   },
   "file_extension": ".py",
   "mimetype": "text/x-python",
   "name": "python",
   "nbconvert_exporter": "python",
   "pygments_lexer": "ipython3",
   "version": "3.6.12"
  }
 },
 "nbformat": 4,
 "nbformat_minor": 4
}
