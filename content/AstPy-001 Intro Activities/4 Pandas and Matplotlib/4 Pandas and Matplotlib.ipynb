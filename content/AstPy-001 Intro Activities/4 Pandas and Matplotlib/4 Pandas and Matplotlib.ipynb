{
 "cells": [
  {
   "cell_type": "markdown",
   "metadata": {},
   "source": [
    "Name: __________________        Class: __________________     Date: __________________"
   ]
  },
  {
   "cell_type": "markdown",
   "metadata": {},
   "source": [
    "<center>\n",
    "    <img width=\"100%\" src=\"https://raw.githubusercontent.com/astroDimitrios/Astronomy/main/APBanner.png\" alt='A&P Logo'>\n",
    "</center>\n",
    "\n",
    "# Plotting data with Pandas and Matplotlib\n",
    "\n",
    "### AIM - To introduce students to Pandas and Matplotlib\n",
    "Difficulty: Easy\n",
    "\n",
    "## Start:\n",
    "\n",
    "This activity will see you plotting some data from NASA about the planets and some moons in our solar system. \n",
    "\n",
    "Again if you are stuck you can consult the Python and NumPy docs at https://docs.python.org/3/, and https://numpy.org/doc/stable/, find help from one of these websites www.w3schools.com, www.python.org, www.learnpython.org (great intro lessons here) or you can also get advice from www.stackoverflow.com.\n",
    "\n",
    "This interactive notebook is part of a series which can be found here: https://github.com/AstroDimitrios/Astronomy.  \n",
    "The notebook is distributed by Dimitrios Theodorakis under the GNU General Public License v3.0.    \n",
    "If something is not working right or you have questions/suggestions about these notebooks please email me at astrodimitrios@gmail.com. Inspiration was taken from the Exoplanet Transit Lab from the Dominion Astrophysical Observatory, Canada here: https://centreoftheuniverse.org/transit-lab, and the work of Adam LaMee's Coding in K12 here: https://adamlamee.github.io/.\n",
    "\n",
    "## Contents\n",
    "\n",
    "* [Start](#Start)\n",
    "* [Matplotlib for plotting](#MPLOT)\n",
    "* [Over to You](#OTY)\n",
    "\n",
    "\n",
    "## Let's Go: <a class=\"anchor\" id=\"Start\"></a>\n",
    "\n",
    "We are going to look at some data on the eight planets and some moons using the Pandas library. Pandas is a data analysis library that has more useful features than the standard Python csv library. It has built in data analysis tools which are very fast, they are more memory efficient, and the Pandas dataframe (where we store our data) has built in search functions. There are loads of reasons why programmers love Pandas, you can find the Pandas documentation [here](https://pandas.pydata.org/). \n",
    "\n",
    "Before we go ahead and use Pandas to load the data you can have a look inside the file that we will be using. On the left of the Jupyter Lab interface you should see the file tree. The file with the orange icon is the interactive notebook you are working on right now. The csv (comma separated value) file with our data in has a green window icon and is called **planets.csv**. Double click on **planets.csv** and it will open as a new tab in Jupyter Lab interface. Have a look at the data included in the file then come back here to continue.\n",
    "\n",
    "Now let's load the data using Python. First we have to import Pandas. If we import it ```as pd``` then we can just type ```pd``` instead of ```pandas``` when we want to use the library:"
   ]
  },
  {
   "cell_type": "code",
   "execution_count": null,
   "metadata": {},
   "outputs": [],
   "source": [
    "# run me\n",
    "import pandas as pd"
   ]
  },
  {
   "cell_type": "code",
   "execution_count": null,
   "metadata": {},
   "outputs": [],
   "source": [
    "# run me - for JupyterLite\n",
    "from js import fetch\n",
    "\n",
    "URL = \"https://raw.githubusercontent.com/astroDimitrios/Astronomy/main/AstPy-001%20Intro%20Activities/4%20Pandas%20and%20Matplotlib/planets.csv\"\n",
    "\n",
    "res = await fetch(URL)\n",
    "text = await res.text()\n",
    "\n",
    "filename = 'planets.csv'\n",
    "\n",
    "with open(filename, 'w') as f:\n",
    "    f.write(text)"
   ]
  },
  {
   "cell_type": "markdown",
   "metadata": {},
   "source": [
    "The Pandas function ```read_csv()``` will open the csv file and load it into a Pandas dataframe for us to use in Python. A Pandas dataframe can be thought of as a dictionary of Pandas Series objects, one Series for each column. A Series object is similar to a NumPy array. You can perform very fast calculations on a Series object and they are memory efficient. See more on data structures in Pandas [here](https://pandas.pydata.org/pandas-docs/stable/user_guide/dsintro.html#dsintro).\n",
    "\n",
    "<div class=\"alert alert-block alert-success\">\n",
    "    To use <strong>read_csv()</strong> we need to give it the filename. Go ahead and complete the code below and run it to load the file:</div>"
   ]
  },
  {
   "cell_type": "code",
   "execution_count": null,
   "metadata": {},
   "outputs": [],
   "source": [
    "# assign the name of the csv as a string to file\n",
    "file = '''Your code here'''\n",
    "df = pd.read_csv(file)"
   ]
  },
  {
   "cell_type": "markdown",
   "metadata": {},
   "source": [
    "To view the table we can either print it using just ```df```:"
   ]
  },
  {
   "cell_type": "code",
   "execution_count": null,
   "metadata": {},
   "outputs": [],
   "source": [
    "# run me\n",
    "df"
   ]
  },
  {
   "cell_type": "markdown",
   "metadata": {},
   "source": [
    "or just use ```df.head()``` which prints out the top five rows. This is useful for really long tables."
   ]
  },
  {
   "cell_type": "code",
   "execution_count": null,
   "metadata": {},
   "outputs": [],
   "source": [
    "# run me\n",
    "df.head()"
   ]
  },
  {
   "cell_type": "markdown",
   "metadata": {},
   "source": [
    "Notice not all the columns are displayed! Well we can print the column headers like this:"
   ]
  },
  {
   "cell_type": "code",
   "execution_count": null,
   "metadata": {},
   "outputs": [],
   "source": [
    "# run me\n",
    "df.columns.tolist()"
   ]
  },
  {
   "cell_type": "markdown",
   "metadata": {},
   "source": [
    "More info on all the columns and their units is stored in the **planets.txt** file.\n",
    "\n",
    "The diameters of the planets and moons are stored in the csv in **km**. Lets select the column with the diameter values:  "
   ]
  },
  {
   "cell_type": "code",
   "execution_count": null,
   "metadata": {},
   "outputs": [],
   "source": [
    "# run me\n",
    "diameters = df['diameter']"
   ]
  },
  {
   "cell_type": "markdown",
   "metadata": {},
   "source": [
    "We can perform mathematical operations on each value in the column like this:"
   ]
  },
  {
   "cell_type": "code",
   "execution_count": null,
   "metadata": {},
   "outputs": [],
   "source": [
    "# run me\n",
    "diameters/2"
   ]
  },
  {
   "cell_type": "markdown",
   "metadata": {},
   "source": [
    "This gives us the radii in km! We can add a column for the radius to the csv like this:"
   ]
  },
  {
   "cell_type": "code",
   "execution_count": null,
   "metadata": {},
   "outputs": [],
   "source": [
    "# run me\n",
    "df['radius'] = diameters/2"
   ]
  },
  {
   "cell_type": "markdown",
   "metadata": {},
   "source": [
    "<div class=\"alert alert-block alert-success\">Print out the first five rows of the table again to see the extra column at the end!</div>"
   ]
  },
  {
   "cell_type": "code",
   "execution_count": null,
   "metadata": {},
   "outputs": [],
   "source": [
    "# hint use the head() function\n",
    "'''Your code here'''"
   ]
  },
  {
   "cell_type": "markdown",
   "metadata": {},
   "source": [
    "Now you know how to select a column and add one lets look at selecting a row. We can get the data for just Io (a moon of Jupiter) by running the following code:"
   ]
  },
  {
   "cell_type": "code",
   "execution_count": null,
   "metadata": {},
   "outputs": [],
   "source": [
    "# run me\n",
    "# this locates all the rows where the planet column equals the string Io!\n",
    "Io = df.loc[df['planet'] == 'Io']\n",
    "Io"
   ]
  },
  {
   "cell_type": "markdown",
   "metadata": {},
   "source": [
    "The **NaN** values are shown where the data is missing.\n",
    "\n",
    "We are going to plot data for the moons in this table so we need to select data for only the moons. There is a column in the table called **moon** which tells us whether the planets is actually a moon! \n",
    "<div class=\"alert alert-block alert-success\">Complete the code cell below to select all rows where the <strong>moon</strong> column is equal to <strong>'y'</strong>:</div>"
   ]
  },
  {
   "cell_type": "code",
   "execution_count": null,
   "metadata": {},
   "outputs": [],
   "source": [
    "moons = df.loc[df['''Your code here'''] == '''Your code here''']\n",
    "moons"
   ]
  },
  {
   "cell_type": "markdown",
   "metadata": {},
   "source": [
    "Let's start extracting data to plot. We will need the name of the moon, its mass, and its radius. We will use NumPy to turn the columns into arrays for easier access to the data when plotting:\n",
    "\n",
    "<div class=\"alert alert-block alert-success\">\n",
    "    \n",
    "- In the next cell import NumPy\n",
    "- In the cell after select the correct columns from the <strong>moons</strong> dataframe</div>"
   ]
  },
  {
   "cell_type": "code",
   "execution_count": null,
   "metadata": {},
   "outputs": [],
   "source": [
    "# import NumPy like we did in the first intro activity\n",
    "import numpy as np"
   ]
  },
  {
   "cell_type": "code",
   "execution_count": null,
   "metadata": {},
   "outputs": [],
   "source": [
    "# get the planet, mass, and radius column from the moons table\n",
    "names = moons['planet']\n",
    "mass = '''Your code here'''\n",
    "radii = '''Your code here'''"
   ]
  },
  {
   "cell_type": "markdown",
   "metadata": {},
   "source": [
    "To start plotting we need to load the Matplotlib library using the code below: <a class=\"anchor\" id=\"MPLOT\"></a>"
   ]
  },
  {
   "cell_type": "code",
   "execution_count": null,
   "metadata": {},
   "outputs": [],
   "source": [
    "# run me - JupterLite\n",
    "import piplite\n",
    "\n",
    "await piplite.install('ipympl')\n",
    "\n",
    "import matplotlib.pyplot as plt\n",
    "%matplotlib widget"
   ]
  },
  {
   "cell_type": "markdown",
   "metadata": {},
   "source": [
    "The ```pyplot``` functions in Matplotlib let you plot data quickly. For more complicated plots we will use a different Matplotlib interface which you will see in a later notebook.\n",
    "\n",
    "To start a plot we can just tell Matplotlib what to plot and what type of plot to make! We are going to make a scatter graph showing the mass vs radius for the moons. This can be done with the ```plt.scatter()``` command like this:"
   ]
  },
  {
   "cell_type": "code",
   "execution_count": null,
   "metadata": {},
   "outputs": [],
   "source": [
    "# run me\n",
    "# the data for the x axis goes first then the y\n",
    "plt.scatter(radii, mass)"
   ]
  },
  {
   "cell_type": "markdown",
   "metadata": {},
   "source": [
    "Just like that we have a plot! It's far from ready though. We need to add axis labels and a title. We can add labels using the ```plt.xlabel()``` and ```plt.xlabel()``` commands, and ```plt.title()``` for our title. All of these commands take strings as their arguments (arguments are things you put inside the brackets when calling the function).\n",
    "\n",
    "<div class=\"alert alert-block alert-success\">\n",
    "Try completing the code below to add the last label and an appropriate title. Remember the radius is in $km$ and the mass is in $10^{24}\\ kg$.</div>"
   ]
  },
  {
   "cell_type": "code",
   "execution_count": null,
   "metadata": {},
   "outputs": [],
   "source": [
    "plt.xlabel('''Your code here''')\n",
    "plt.ylabel('''Your code here''')\n",
    "plt.title('''Your code here''')"
   ]
  },
  {
   "cell_type": "markdown",
   "metadata": {},
   "source": [
    "Notice how the scatter points dissapeared! That's because Matplotlib thought we wanted a new figure since we didn't say we wanted to update the old one. Add the ```plt.scatter(radii, mass)``` call to the code cell above and then re-run the code.\n",
    "\n",
    "Now we can use ```plt.savefig(\"image_name.jpg)``` to save the figure. Again add this to the code cell above. It should be on the last line. Now when you run the code cell you should see an image listed in the file tree on the left with a blue icon. You can double click on it to see your saved image.\n",
    "\n",
    "**Note:** Actually because this notebook is being run in JupyterLite the file has rather unhelpfully saved to the browser (as will the csv you are saving later in the notebook). To save the figure locally on your computer hover over the plot and click the save button.\n",
    "\n",
    "The last thing we might want to do is save the table we added the radius column to. We can do this using the ```to_csv()``` Pandas function:"
   ]
  },
  {
   "cell_type": "code",
   "execution_count": null,
   "metadata": {},
   "outputs": [],
   "source": [
    "# run me\n",
    "df.to_csv(\"planets+radii.csv\", index=False)"
   ]
  },
  {
   "cell_type": "markdown",
   "metadata": {},
   "source": [
    "To check that your table was saved look at the filetree on the left. What do you think ```index=False``` does? \n",
    "\n",
    "Sometimes in these notebooks you will load images that someone else has already made using the IPython (Interactive Python) library.\n",
    "\n",
    "<div class=\"alert alert-block alert-success\">Complete the code to load the image you made back into Python to check it saved properly:</div>"
   ]
  },
  {
   "cell_type": "code",
   "execution_count": null,
   "metadata": {},
   "outputs": [],
   "source": [
    "from IPython.display import Image\n",
    "# add in the filename as a string - don't forget the image format .jpg or .png\n",
    "Image('''Your code here''')"
   ]
  },
  {
   "cell_type": "markdown",
   "metadata": {},
   "source": [
    "The next few activities will get you to practice using your new Python skills by doing maths, reading data, and making much nicer plots. They also introduce new skills and functions which will make understanding the code in the main activities much easier. Make sure you have saved the links at the start of the notebook which point you to websites where you can find help along the way.\n",
    "\n",
    "## Over to You <a class=\"anchor\" id=\"OTY\"></a>\n",
    "\n",
    "Have a go at the tasks below. I haven't provided solutions and there are probably a few ways to solve each one! Remember if you are stuck you can consult the Python and NumPy docs at https://docs.python.org/3/, and https://numpy.org/doc/stable/, find help from one of these websites www.w3schools.com, www.python.org, www.learnpython.org or you can also get advice from www.stackoverflow.com. You can also ask your instructor for help or email me at astrodimitrios@gmail.com.\n",
    "\n",
    "**Task 1:** Load in the ***planets.csv*** file and select only the planets.  \n",
    "**Task 2:** Plot the Mass vs Radius for the planets.  \n",
    "**Task 3:** Save your figure.  \n",
    "**Task 4:** Load your figure into the notebook with Python."
   ]
  },
  {
   "cell_type": "code",
   "execution_count": null,
   "metadata": {},
   "outputs": [],
   "source": [
    "# Your code here:\n"
   ]
  },
  {
   "cell_type": "markdown",
   "metadata": {},
   "source": [
    "## Sharing\n",
    "\n",
    "If you share, use or modify this activity in any way use the citation in this [txt file](https://github.com/astroDimitrios/Astronomy/blob/master/CITATION.txt).    \n",
    "Please contact me at astrodimitrios@gmail.com with any suggestions, mistakes found, or general questions about teaching astronomy with Python.\n",
    "\n",
    "© Dimitrios Theodorakis GNU General Public License v3.0 \u000b\n",
    "\n",
    "https://github.com/astroDimitrios/Astronomy  "
   ]
  }
 ],
 "metadata": {
  "kernelspec": {
   "display_name": "Python 3",
   "language": "python",
   "name": "python3"
  },
  "language_info": {
   "codemirror_mode": {
    "name": "ipython",
    "version": 3
   },
   "file_extension": ".py",
   "mimetype": "text/x-python",
   "name": "python",
   "nbconvert_exporter": "python",
   "pygments_lexer": "ipython3",
   "version": "3.6.13"
  }
 },
 "nbformat": 4,
 "nbformat_minor": 4
}
